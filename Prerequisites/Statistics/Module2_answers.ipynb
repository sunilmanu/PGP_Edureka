{
 "cells": [
  {
   "cell_type": "markdown",
   "metadata": {},
   "source": [
    "# 1. Consider a random 10 x 2 matrix representing Cartesian coordinates, convert them to Polar coordinates. "
   ]
  },
  {
   "cell_type": "code",
   "execution_count": 17,
   "metadata": {},
   "outputs": [
    {
     "data": {
      "text/plain": [
       "(10, 2)"
      ]
     },
     "execution_count": 17,
     "metadata": {},
     "output_type": "execute_result"
    }
   ],
   "source": [
    "#(10,2) random matrix\n",
    "import numpy as np\n",
    "cartesian = np.random.random((10,2))\n",
    "cartesian.shape"
   ]
  },
  {
   "cell_type": "code",
   "execution_count": 20,
   "metadata": {},
   "outputs": [
    {
     "data": {
      "text/plain": [
       "(10,)"
      ]
     },
     "execution_count": 20,
     "metadata": {},
     "output_type": "execute_result"
    }
   ],
   "source": [
    "#squaring the x and y coordinates\n",
    "x,y = cartesian[:,0], cartesian[:,1]\n",
    "squared = np.sqrt(x**2+y**2)\n",
    "squared.shape"
   ]
  },
  {
   "cell_type": "code",
   "execution_count": 24,
   "metadata": {},
   "outputs": [
    {
     "data": {
      "text/plain": [
       "(10,)"
      ]
     },
     "execution_count": 24,
     "metadata": {},
     "output_type": "execute_result"
    }
   ],
   "source": [
    "tan = np.arctan2(y,x)\n",
    "tan.shape"
   ]
  },
  {
   "cell_type": "code",
   "execution_count": 28,
   "metadata": {},
   "outputs": [
    {
     "name": "stdout",
     "output_type": "stream",
     "text": [
      "[0.49313847 0.4574173  0.96226902 1.22470341 0.69013137 1.05532936\n",
      " 1.17104897 0.84883395 0.81476658 0.19911892]\n"
     ]
    }
   ],
   "source": [
    "print(squared)\n"
   ]
  },
  {
   "cell_type": "code",
   "execution_count": 27,
   "metadata": {},
   "outputs": [
    {
     "name": "stdout",
     "output_type": "stream",
     "text": [
      "[0.91840757 0.40864339 0.70864967 0.88182374 0.59502463 0.97859288\n",
      " 0.56438473 0.54588677 0.8861481  1.23558663]\n"
     ]
    }
   ],
   "source": [
    "print(tan)"
   ]
  },
  {
   "cell_type": "code",
   "execution_count": null,
   "metadata": {},
   "outputs": [],
   "source": []
  },
  {
   "cell_type": "code",
   "execution_count": null,
   "metadata": {},
   "outputs": [],
   "source": []
  },
  {
   "cell_type": "markdown",
   "metadata": {},
   "source": [
    "# 2.Create random vector of size 50 and replace the maximum value by 0 and minimum value by 100"
   ]
  },
  {
   "cell_type": "code",
   "execution_count": 64,
   "metadata": {},
   "outputs": [
    {
     "name": "stdout",
     "output_type": "stream",
     "text": [
      "[0.06177358 0.25034685 0.37833436 0.17640606 0.03123855 0.14925129\n",
      " 0.2567318  0.56787444 0.7659632  0.39974903 0.57585403 0.55075131\n",
      " 0.54917655 0.99081551 0.38729656 0.11888687 0.33495051 0.88359377\n",
      " 0.07520395 0.37877952 0.05483237 0.62902968 0.83905097 0.16558931\n",
      " 0.93577647 0.88831272 0.35248831 0.54114818 0.55479434 0.94439703\n",
      " 0.52452823 0.51448437 0.37452981 0.35037903 0.09395805 0.05079613\n",
      " 0.37972464 0.45368496 0.21012452 0.51267064 0.08403997 0.93186581\n",
      " 0.47967357 0.93680501 0.07642257 0.35003497 0.92384079 0.50990686\n",
      " 0.98018468 0.54758053]\n"
     ]
    }
   ],
   "source": [
    "#random vector of size 50\n",
    "x = np.random.random(50)\n",
    "print(x)"
   ]
  },
  {
   "cell_type": "code",
   "execution_count": 65,
   "metadata": {},
   "outputs": [],
   "source": [
    "#replacing the maximum and minimum values\n",
    "x[x.argmin()] = 100\n",
    "x[x.argmin()] = 0"
   ]
  },
  {
   "cell_type": "code",
   "execution_count": 66,
   "metadata": {},
   "outputs": [
    {
     "data": {
      "text/plain": [
       "array([6.17735788e-02, 2.50346847e-01, 3.78334360e-01, 1.76406062e-01,\n",
       "       1.00000000e+02, 1.49251290e-01, 2.56731795e-01, 5.67874443e-01,\n",
       "       7.65963200e-01, 3.99749026e-01, 5.75854027e-01, 5.50751312e-01,\n",
       "       5.49176554e-01, 9.90815509e-01, 3.87296559e-01, 1.18886872e-01,\n",
       "       3.34950509e-01, 8.83593768e-01, 7.52039512e-02, 3.78779519e-01,\n",
       "       5.48323653e-02, 6.29029680e-01, 8.39050971e-01, 1.65589314e-01,\n",
       "       9.35776474e-01, 8.88312718e-01, 3.52488305e-01, 5.41148177e-01,\n",
       "       5.54794338e-01, 9.44397034e-01, 5.24528232e-01, 5.14484372e-01,\n",
       "       3.74529807e-01, 3.50379026e-01, 9.39580510e-02, 0.00000000e+00,\n",
       "       3.79724639e-01, 4.53684959e-01, 2.10124522e-01, 5.12670642e-01,\n",
       "       8.40399652e-02, 9.31865814e-01, 4.79673575e-01, 9.36805005e-01,\n",
       "       7.64225699e-02, 3.50034968e-01, 9.23840790e-01, 5.09906862e-01,\n",
       "       9.80184678e-01, 5.47580532e-01])"
      ]
     },
     "execution_count": 66,
     "metadata": {},
     "output_type": "execute_result"
    }
   ],
   "source": [
    "x"
   ]
  },
  {
   "cell_type": "code",
   "execution_count": null,
   "metadata": {},
   "outputs": [],
   "source": []
  },
  {
   "cell_type": "code",
   "execution_count": null,
   "metadata": {},
   "outputs": [],
   "source": []
  },
  {
   "cell_type": "markdown",
   "metadata": {},
   "source": [
    "# 3.Create below matrix using scipy. "
   ]
  },
  {
   "cell_type": "code",
   "execution_count": 124,
   "metadata": {},
   "outputs": [],
   "source": [
    "z = np.zeros((10,10))\n",
    "z[np.arange(10), np.arange(10)] = 2 # diagonal is 2\n",
    "z[np.arange(8), np.arange(8) + 2] = 1 # second upper diagonal is 1\n",
    "z[np.arange(8)  + 2 , np.arange(8)] = 1 # second lower diagonal is 1 "
   ]
  },
  {
   "cell_type": "code",
   "execution_count": 125,
   "metadata": {},
   "outputs": [
    {
     "data": {
      "text/plain": [
       "array([[2., 0., 1., 0., 0., 0., 0., 0., 0., 0.],\n",
       "       [0., 2., 0., 1., 0., 0., 0., 0., 0., 0.],\n",
       "       [1., 0., 2., 0., 1., 0., 0., 0., 0., 0.],\n",
       "       [0., 1., 0., 2., 0., 1., 0., 0., 0., 0.],\n",
       "       [0., 0., 1., 0., 2., 0., 1., 0., 0., 0.],\n",
       "       [0., 0., 0., 1., 0., 2., 0., 1., 0., 0.],\n",
       "       [0., 0., 0., 0., 1., 0., 2., 0., 1., 0.],\n",
       "       [0., 0., 0., 0., 0., 1., 0., 2., 0., 1.],\n",
       "       [0., 0., 0., 0., 0., 0., 1., 0., 2., 0.],\n",
       "       [0., 0., 0., 0., 0., 0., 0., 1., 0., 2.]])"
      ]
     },
     "execution_count": 125,
     "metadata": {},
     "output_type": "execute_result"
    }
   ],
   "source": [
    "z"
   ]
  },
  {
   "cell_type": "code",
   "execution_count": null,
   "metadata": {},
   "outputs": [],
   "source": []
  },
  {
   "cell_type": "code",
   "execution_count": null,
   "metadata": {},
   "outputs": [],
   "source": []
  },
  {
   "cell_type": "markdown",
   "metadata": {},
   "source": [
    "# 4.Reproduce given plot by correcting the below code. "
   ]
  },
  {
   "cell_type": "markdown",
   "metadata": {},
   "source": [
    "Code given\n",
    "\n",
    "from pylab import * \n",
    "\n",
    "n = 256 \n",
    "\n",
    "X = np.linspace(-np.pi,np.pi,n,endpoint=True) \n",
    "\n",
    "Y = np.sin(2*X) \n",
    "\n",
    "plot (X, Y+1, color='blue', alpha=1.00) \n",
    "\n",
    "plot (X, Y-1, color='blue', alpha=1.00) \n",
    "\n",
    "show()"
   ]
  },
  {
   "cell_type": "code",
   "execution_count": 150,
   "metadata": {},
   "outputs": [
    {
     "data": {
      "image/png": "[encoded data removed]",
      "text/plain": [
       "<Figure size 432x288 with 1 Axes>"
      ]
     },
     "metadata": {},
     "output_type": "display_data"
    }
   ],
   "source": [
    "import matplotlib.pyplot as plt\n",
    "n = 256\n",
    "X = np.linspace(-np.pi, np.pi, n, endpoint=True)\n",
    "Y = np.sin(2 * X)\n",
    "plt.plot(X, Y + 1, color='blue', alpha=1.00)\n",
    "plt.fill_between(X, 1, Y + 1, color='blue', alpha=.25)#filling the first wave  with the desired color\n",
    "plt.plot(X, Y - 1, color='blue', alpha=1.00)\n",
    "plt.fill_between(X, -1, Y - 1, (Y - 1) > -1, color='blue', alpha=.25)#filling the below curve positive side with blue\n",
    "plt.fill_between(X, -1, Y - 1, (Y - 1) < -1, color='red',  alpha=.25)#filling the below curve negative side with red\n",
    "plt.show()"
   ]
  }
 ],
 "metadata": {
  "kernelspec": {
   "display_name": "Python 3.6 (tensorflow)",
   "language": "python",
   "name": "dfhdfh"
  },
  "language_info": {
   "codemirror_mode": {
    "name": "ipython",
    "version": 3
   },
   "file_extension": ".py",
   "mimetype": "text/x-python",
   "name": "python",
   "nbconvert_exporter": "python",
   "pygments_lexer": "ipython3",
   "version": "3.6.6"
  }
 },
 "nbformat": 4,
 "nbformat_minor": 2
}
